{
 "cells": [
  {
   "cell_type": "code",
   "execution_count": 1,
   "id": "fd2f4e88-1d76-4af7-aba2-c81584d1d3bc",
   "metadata": {},
   "outputs": [],
   "source": [
    "# Total circulating Bitcoin (19.5 million)\n",
    "total_bitcoin = 19_500_000\n",
    "\n",
    "# Estimated lost Bitcoin (4 million)\n",
    "lost_bitcoin = 4_000_000\n",
    "\n",
    "# Bitcoin in long-term institutional custody (3 million)\n",
    "institutional_hold = 3_000_000\n",
    "\n",
    "# Total market capitalization ($1.2 trillion)\n",
    "market_cap = 1_200_000_000_000  # $1.2T"
   ]
  },
  {
   "cell_type": "code",
   "execution_count": 2,
   "id": "13dce2c6-f6b5-4b55-8979-86b213436801",
   "metadata": {},
   "outputs": [
    {
     "name": "stdout",
     "output_type": "stream",
     "text": [
      "Tradable Bitcoin Supply: 12,500,000 BTC\n",
      "Free-Float Factor: 64.10%\n"
     ]
    }
   ],
   "source": [
    "# Calculate tradable Bitcoin supply\n",
    "tradable_bitcoin = total_bitcoin - lost_bitcoin - institutional_hold\n",
    "\n",
    "# Calculate free-float percentage factor\n",
    "free_float_factor = tradable_bitcoin / total_bitcoin\n",
    "\n",
    "print(f\"Tradable Bitcoin Supply: {tradable_bitcoin:,} BTC\")\n",
    "print(f\"Free-Float Factor: {free_float_factor:.2%}\")  # Format as percentage"
   ]
  },
  {
   "cell_type": "code",
   "execution_count": 5,
   "id": "aa47e50a-4e39-431a-b3df-1bc2b6a876a0",
   "metadata": {},
   "outputs": [
    {
     "name": "stdout",
     "output_type": "stream",
     "text": [
      "\n",
      "Free-Float Market Cap: $769,230,769,230.77\n"
     ]
    }
   ],
   "source": [
    "# Calculate free-float adjusted market cap\n",
    "free_float_mcap = market_cap * free_float_factor\n",
    "\n",
    "print(f\"\\nFree-Float Market Cap: ${free_float_mcap:,.2f}\")"
   ]
  },
  {
   "cell_type": "code",
   "execution_count": 7,
   "id": "fb1db286-e9fc-4aa2-bac1-d1a40df99a26",
   "metadata": {},
   "outputs": [
    {
     "name": "stdout",
     "output_type": "stream",
     "text": [
      "Professional Free-Float Calculation: $769,230,769,230.77\n"
     ]
    }
   ],
   "source": [
    "def calculate_free_float_mcap(total_supply, lost_coins, institutional_hold, market_cap):\n",
    "    \"\"\"\n",
    "    S&P-Grade Free-Float Market Cap Calculator\n",
    "    \n",
    "    Parameters:\n",
    "    total_supply (float): Total circulating coins\n",
    "    lost_coins (float): Permanently inaccessible coins\n",
    "    institutional_hold (float): Long-term locked coins\n",
    "    market_cap (float): Total market capitalization\n",
    "    \n",
    "    Returns:\n",
    "    float: Free-float adjusted market cap\n",
    "    \"\"\"\n",
    "    tradable = total_supply - lost_coins - institutional_hold\n",
    "    factor = tradable / total_supply\n",
    "    return market_cap * factor\n",
    "\n",
    "# Test with Bitcoin\n",
    "btc_ff_mcap = calculate_free_float_mcap(\n",
    "    total_supply=19_500_000,\n",
    "    lost_coins=4_000_000,\n",
    "    institutional_hold=3_000_000,\n",
    "    market_cap=1_200_000_000_000\n",
    ")\n",
    "\n",
    "print(f\"Professional Free-Float Calculation: ${btc_ff_mcap:,.2f}\")"
   ]
  },
  {
   "cell_type": "code",
   "execution_count": null,
   "id": "ebc1153e-5579-4b03-9b47-3b362bd6953b",
   "metadata": {},
   "outputs": [],
   "source": []
  }
 ],
 "metadata": {
  "kernelspec": {
   "display_name": "Python [conda env:base] *",
   "language": "python",
   "name": "conda-base-py"
  },
  "language_info": {
   "codemirror_mode": {
    "name": "ipython",
    "version": 3
   },
   "file_extension": ".py",
   "mimetype": "text/x-python",
   "name": "python",
   "nbconvert_exporter": "python",
   "pygments_lexer": "ipython3",
   "version": "3.12.7"
  }
 },
 "nbformat": 4,
 "nbformat_minor": 5
}
